{
  "nbformat": 4,
  "nbformat_minor": 0,
  "metadata": {
    "colab": {
      "name": "exercice-ancrage",
      "provenance": [],
      "authorship_tag": "ABX9TyMBGngBvzubGTOYpyb/ZJuT",
      "include_colab_link": true
    },
    "kernelspec": {
      "name": "python3",
      "display_name": "Python 3"
    },
    "language_info": {
      "name": "python"
    }
  },
  "cells": [
    {
      "cell_type": "markdown",
      "metadata": {
        "id": "view-in-github",
        "colab_type": "text"
      },
      "source": [
        "<a href=\"https://colab.research.google.com/github/mickaeltemporao/methodes/blob/main/materials/exercises.ipynb\" target=\"_parent\"><img src=\"https://colab.research.google.com/assets/colab-badge.svg\" alt=\"Open In Colab\"/></a>"
      ]
    },
    {
      "cell_type": "markdown",
      "metadata": {
        "id": "2E3BWaltq-Qv"
      },
      "source": [
        "# Exercices \n",
        "\n"
      ]
    },
    {
      "cell_type": "markdown",
      "metadata": {
        "id": "3KLTaVzeTBGX"
      },
      "source": [
        "## Thème\n",
        "- Identifiez un sujet/thème en comportement électoral/opinion publique"
      ]
    },
    {
      "cell_type": "markdown",
      "metadata": {
        "id": "vGcRB3hsTCL_"
      },
      "source": [
        ""
      ]
    },
    {
      "cell_type": "markdown",
      "metadata": {
        "id": "4F5koG0ZSiUu"
      },
      "source": [
        "## Rérences \n",
        "- Recherchez deux articles scientifiques sur le sujet.\n"
      ]
    },
    {
      "cell_type": "markdown",
      "metadata": {
        "id": "xkxFXZTVTC3z"
      },
      "source": [
        ""
      ]
    },
    {
      "cell_type": "markdown",
      "metadata": {
        "id": "HKWRw4U1SkgP"
      },
      "source": [
        "## Questions existantes\n",
        "\n",
        "- Repérez les questions auxquelles s’intéressent les auteurs.\n"
      ]
    },
    {
      "cell_type": "markdown",
      "metadata": {
        "id": "lM2YToRdTDbj"
      },
      "source": [
        ""
      ]
    },
    {
      "cell_type": "markdown",
      "metadata": {
        "id": "4N8OwOoMSlk6"
      },
      "source": [
        "## Question de recherche\n",
        "- Développez une question de recherche.\n"
      ]
    },
    {
      "cell_type": "markdown",
      "metadata": {
        "id": "KIQXHTZ6TEJ6"
      },
      "source": [
        ""
      ]
    },
    {
      "cell_type": "markdown",
      "metadata": {
        "id": "SPfXk1uwS-Qv"
      },
      "source": [
        "## Concepts\n",
        ". Identifiez les concepts pertients pour votre projet\n",
        "- Identifiez votre variable dépendantes et independantes\n",
        "\n"
      ]
    },
    {
      "cell_type": "markdown",
      "metadata": {
        "id": "cfOcS_zNTE68"
      },
      "source": [
        ""
      ]
    }
  ]
}