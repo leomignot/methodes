{
  "nbformat": 4,
  "nbformat_minor": 0,
  "metadata": {
    "colab": {
      "name": "methodes-exercices",
      "provenance": [],
      "authorship_tag": "ABX9TyM/l0dacQDxSPx3iIOK5MpP"
    },
    "kernelspec": {
      "name": "python3",
      "display_name": "Python 3"
    },
    "language_info": {
      "name": "python"
    }
  },
  "cells": [
    {
      "cell_type": "markdown",
      "metadata": {
        "id": "2E3BWaltq-Qv"
      },
      "source": [
        "# Exercices \n",
        "\n"
      ]
    },
    {
      "cell_type": "markdown",
      "metadata": {
        "id": "3KLTaVzeTBGX"
      },
      "source": [
        "## Thème\n",
        "- Identifiez un sujet/thème en comportement électoral/opinion publique"
      ]
    },
    {
      "cell_type": "markdown",
      "metadata": {
        "id": "vGcRB3hsTCL_"
      },
      "source": [
        ""
      ]
    },
    {
      "cell_type": "markdown",
      "metadata": {
        "id": "4F5koG0ZSiUu"
      },
      "source": [
        "## Références / Bibliographie\n",
        "- Recherchez deux articles scientifiques sur le sujet.\n"
      ]
    },
    {
      "cell_type": "markdown",
      "metadata": {
        "id": "xkxFXZTVTC3z"
      },
      "source": [
        ""
      ]
    },
    {
      "cell_type": "markdown",
      "metadata": {
        "id": "HKWRw4U1SkgP"
      },
      "source": [
        "## Questions existantes\n",
        "\n",
        "- Repérez les questions auxquelles s’intéressent les auteurs.\n"
      ]
    },
    {
      "cell_type": "markdown",
      "metadata": {
        "id": "lM2YToRdTDbj"
      },
      "source": [
        ""
      ]
    },
    {
      "cell_type": "markdown",
      "metadata": {
        "id": "4N8OwOoMSlk6"
      },
      "source": [
        "## Question de recherche\n",
        "- Développez une question de recherche.\n"
      ]
    },
    {
      "cell_type": "markdown",
      "metadata": {
        "id": "KIQXHTZ6TEJ6"
      },
      "source": [
        ""
      ]
    },
    {
      "cell_type": "markdown",
      "metadata": {
        "id": "SPfXk1uwS-Qv"
      },
      "source": [
        "## Concepts\n",
        "- Identifiez les concepts pertients de votre projet\n",
        "- Identifiez votre variable dépendantes et independantes\n"
      ]
    },
    {
      "cell_type": "markdown",
      "metadata": {
        "id": "cfOcS_zNTE68"
      },
      "source": [
        ""
      ]
    }
  ]
}