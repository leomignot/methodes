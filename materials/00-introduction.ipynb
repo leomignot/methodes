{
  "nbformat": 4,
  "nbformat_minor": 0,
  "metadata": {
    "colab": {
      "name": "00-carnet-introductio.ipynb",
      "provenance": [],
      "collapsed_sections": []
    },
    "kernelspec": {
      "name": "python3",
      "display_name": "Python 3"
    }
  },
  "cells": [
    {
      "cell_type": "markdown",
      "metadata": {
        "id": "s9nC5_RwqJcx"
      },
      "source": [
        "# Les donnés de l'American National Election Survey 2020 (ANES 2020)\n",
        "\n",
        "Jusqu'à présent, vous avez utilisé les \"notebooks\" pour rédiger vos travaux...\n",
        "\n",
        "Mais, ces \"notebooks\" sont extrêmeent puissants. Ils sont reliés à un super-ordinateur permettant d'effectuer des calculs de haute performance!\n",
        "\n",
        "![](https://www.ctvnews.ca/polopoly_fs/1.4899418.1587069197!/httpImage/image.png_gen/derivatives/landscape_960/image.png)"
      ]
    },
    {
      "cell_type": "code",
      "metadata": {
        "id": "PTx-1l9i4MPy"
      },
      "source": [
        "# Chargement de la librarie d'analyse\n",
        "import pandas as pd\n",
        "\n",
        "# Importations des données\n",
        "data_url = \"https://raw.githubusercontent.com/datamisc/ts-2020/main/data.csv\"\n",
        "anes_data  = pd.read_csv(data_url, compression='gzip')\n",
        "anes_data\n"
      ],
      "execution_count": null,
      "outputs": []
    },
    {
      "cell_type": "code",
      "metadata": {
        "id": "luNYIaFY60Nn"
      },
      "source": [
        "# Sélection de variables\n",
        "my_vars = [\n",
        "    \"V201032\",  # vote\n",
        "    \"V201033\",  # intentions\n",
        "    \"V201507x\", # age\n",
        "    \"V201200\",  # ideologie\n",
        "]\n",
        "\n",
        "df = anes_data[my_vars]\n",
        "df.columns = [\"vote\", \"intentions\", \"age\", \"ideologie\"]\n",
        "df"
      ],
      "execution_count": null,
      "outputs": []
    },
    {
      "cell_type": "code",
      "metadata": {
        "id": "PMf98ilG578W"
      },
      "source": [
        "# Regardons à la participation\n",
        "tmp = df.loc[df['vote'].between(1,2),['vote']].replace(\n",
        "    {1:\"Oui\", 2:\"Non\"}\n",
        ").value_counts(\n",
        "    normalize=True,\n",
        ").sort_index()\n",
        "\n",
        "print(tmp)\n",
        "tmp.plot(\n",
        "    kind='bar', \n",
        "    title=\"Participation\",\n",
        "    figsize=(10,8),\n",
        "    xlabel=\"Intention d'aller voter\",\n",
        "    alpha=.3,\n",
        "    rot=0\n",
        ");"
      ],
      "execution_count": null,
      "outputs": []
    },
    {
      "cell_type": "code",
      "metadata": {
        "id": "IEBhEQQv7kdC"
      },
      "source": [
        "# Un peu de ménage\n",
        "mask = (df['age'] >= 18) & (df['ideologie'].between(1, 7)) & (df['intentions'].between(1,2))\n",
        "df = df[mask]"
      ],
      "execution_count": null,
      "outputs": []
    },
    {
      "cell_type": "code",
      "metadata": {
        "id": "LLxHedQp8UjM"
      },
      "source": [
        "# Regardons à la distribution de l'âge des répondants\n",
        "df['age'].plot(\n",
        "    kind='hist', \n",
        "    bins=30, \n",
        "    title=\"Distribution de l'âge\",\n",
        "    figsize=(10,8),\n",
        "    alpha=.3,\n",
        ");\n"
      ],
      "execution_count": null,
      "outputs": []
    },
    {
      "cell_type": "code",
      "metadata": {
        "id": "afOmch0R85go"
      },
      "source": [
        "# Est-ce que l'électorat américain est idéologiquement polarisé?\n",
        "df['ideologie'].replace(\n",
        "    {1:\"1. Ext. Lib.\", 2:\"2. Lib.\", 3:\"3. Sl. Lib.\", 4:\"4. Moderate\", 5: \"5. Sl. Con.\", 6: \"6. Con\", 7: \"7. Ext. Con.\"}\n",
        ").value_counts(\n",
        "    normalize=True\n",
        ").sort_index().plot(\n",
        "    kind='bar', \n",
        "    rot=45,\n",
        "    title=\"Distribution de l'idéologie\",\n",
        "    figsize=(10,8),\n",
        "    alpha=.3,\n",
        ");\n"
      ],
      "execution_count": null,
      "outputs": []
    },
    {
      "cell_type": "code",
      "metadata": {
        "id": "iqhrqNCX3VmB"
      },
      "source": [
        "# Regardons aux intentions de vote\n",
        "tmp = df['intentions'].replace(\n",
        "    {1:\"J.Biden\", 2:\"D.Trump\"}\n",
        ").value_counts(\n",
        "    normalize=True\n",
        ").sort_index()\n",
        "\n",
        "print(tmp)\n",
        "tmp.plot(\n",
        "    kind='bar', \n",
        "    title=\"Distribution des intentions de vote\",\n",
        "    figsize=(10,8),\n",
        "    alpha=.3,\n",
        ");\n"
      ],
      "execution_count": null,
      "outputs": []
    }
  ]
}