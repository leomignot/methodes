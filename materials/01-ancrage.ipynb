{
  "nbformat": 4,
  "nbformat_minor": 0,
  "metadata": {
    "colab": {
      "name": "exercice-ancrage",
      "provenance": [],
      "authorship_tag": "ABX9TyMNpBgP8/PE4M+cE5Dt5fL6",
      "include_colab_link": true
    },
    "kernelspec": {
      "name": "python3",
      "display_name": "Python 3"
    },
    "language_info": {
      "name": "python"
    }
  },
  "cells": [
    {
      "cell_type": "markdown",
      "metadata": {
        "id": "view-in-github",
        "colab_type": "text"
      },
      "source": [
        "<a href=\"https://colab.research.google.com/github/mickaeltemporao/methodes/blob/main/materials/01-ancrage.ipynb\" target=\"_parent\"><img src=\"https://colab.research.google.com/assets/colab-badge.svg\" alt=\"Open In Colab\"/></a>"
      ]
    },
    {
      "cell_type": "markdown",
      "metadata": {
        "id": "2E3BWaltq-Qv"
      },
      "source": [
        "# Exercice d'ancrage\n",
        "\n",
        "1. Identifiez un sujet/thème en comportement électoral/opinion publique.\n",
        "2. Recherchez deux articles scientifiques sur le sujet.\n",
        "3. Repérez les questions auxquelles s’intéressent les auteurs.\n",
        "4. Développez une question de recherche.\n",
        "5. Présentez !\n"
      ]
    }
  ]
}